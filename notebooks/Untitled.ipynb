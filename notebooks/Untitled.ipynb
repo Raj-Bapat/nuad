{
 "cells": [
  {
   "cell_type": "code",
   "execution_count": 1,
   "id": "cf3567b8-b41b-4ce0-aa83-f8cbd4dd45b3",
   "metadata": {},
   "outputs": [
    {
     "data": {
      "text/plain": [
       "(0.796078431372549, 0.3764705882352941, 0.08235294117647059)"
      ]
     },
     "execution_count": 1,
     "metadata": {},
     "output_type": "execute_result"
    }
   ],
   "source": [
    "(203/255, 96/255, 21/255)"
   ]
  },
  {
   "cell_type": "code",
   "execution_count": 2,
   "id": "1beec0c0-7e6f-4da6-a325-a4db11554a83",
   "metadata": {},
   "outputs": [
    {
     "data": {
      "text/plain": [
       "(0.7490196078431373, 0.3411764705882353, 0.0)"
      ]
     },
     "execution_count": 2,
     "metadata": {},
     "output_type": "execute_result"
    }
   ],
   "source": [
    "(191/255, 87/255, 0/255)"
   ]
  },
  {
   "cell_type": "code",
   "execution_count": 1,
   "id": "4ff43f83-c941-4a79-8b74-c97c70814645",
   "metadata": {},
   "outputs": [
    {
     "data": {
      "text/plain": [
       "True"
      ]
     },
     "execution_count": 1,
     "metadata": {},
     "output_type": "execute_result"
    }
   ],
   "source": [
    "t = (2,3)\n",
    "s = tuple(t)\n",
    "s is t"
   ]
  }
 ],
 "metadata": {
  "kernelspec": {
   "display_name": "Python 3 (ipykernel)",
   "language": "python",
   "name": "python3"
  },
  "language_info": {
   "codemirror_mode": {
    "name": "ipython",
    "version": 3
   },
   "file_extension": ".py",
   "mimetype": "text/x-python",
   "name": "python",
   "nbconvert_exporter": "python",
   "pygments_lexer": "ipython3",
   "version": "3.8.13"
  }
 },
 "nbformat": 4,
 "nbformat_minor": 5
}

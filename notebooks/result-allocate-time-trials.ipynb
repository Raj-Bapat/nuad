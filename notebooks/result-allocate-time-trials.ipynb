{
 "cells": [
  {
   "cell_type": "code",
   "execution_count": 24,
   "id": "066cfe16-9134-40a5-af54-15b652c10975",
   "metadata": {},
   "outputs": [
    {
     "name": "stdout",
     "output_type": "stream",
     "text": [
      "28.9 ms ± 2.06 ms per loop (mean ± std. dev. of 7 runs, 10 loops each)\n",
      "27.9 ms ± 1.57 ms per loop (mean ± std. dev. of 7 runs, 10 loops each)\n",
      "9.81 ms ± 1.17 ms per loop (mean ± std. dev. of 7 runs, 100 loops each)\n",
      "92.2 µs ± 2.37 µs per loop (mean ± std. dev. of 7 runs, 10,000 loops each)\n",
      "50.7 µs ± 652 ns per loop (mean ± std. dev. of 7 runs, 10,000 loops each)\n",
      "47.6 µs ± 499 ns per loop (mean ± std. dev. of 7 runs, 10,000 loops each)\n"
     ]
    }
   ],
   "source": [
    "# https://github.com/UC-Davis-molecular-computing/nuad/issues/233\n",
    "\n",
    "import nuad.constraints as nc\n",
    "from decimal import Decimal\n",
    "import pint\n",
    "ureg = pint.UnitRegistry()\n",
    "\n",
    "from pprint import pprint\n",
    "n = 10**2\n",
    "energies = [-1.0]*n\n",
    "threshold = -0.9\n",
    "results = [nc.Result(excess=0, value=0) for _ in range(n)]\n",
    "\n",
    "def collect_results(energies, threshold):\n",
    "    results = []\n",
    "    for energy in energies:\n",
    "        excess = threshold - energy\n",
    "        value = f'{energy:6.2f} kcal/mol'\n",
    "        result = nc.Result(excess=excess, value=value)\n",
    "        results.append(result)\n",
    "    return results\n",
    "\n",
    "def collect_results_into_parse_and_normalize(energies, threshold, results):\n",
    "    for i, energy in enumerate(energies):\n",
    "        excess = threshold - energy\n",
    "        value = f'{energy:6.2f} kcal/mol'\n",
    "        results[i].excess = excess\n",
    "        results[i].value = nc.parse_and_normalize_quantity(value)\n",
    "\n",
    "def collect_results_into_noparse_normalize(energies, threshold, results):\n",
    "    for i, energy in enumerate(energies):\n",
    "        excess = threshold - energy\n",
    "        value = f'{energy:6.2f} kcal/mol'\n",
    "        results[i].excess = excess\n",
    "        quantity = pint.Quantity(energy, ureg.kcal / ureg.mol)\n",
    "        results[i].value = normalize_quantity(quantity)\n",
    "\n",
    "def collect_results_into_change_magnitude(energies, threshold, results):\n",
    "    for i, energy in enumerate(energies):\n",
    "        excess = threshold - energy\n",
    "        value = f'{energy:6.2f} kcal/mol'\n",
    "        results[i].excess = excess\n",
    "        results[i].value._magnitude = Decimal(str(energy))\n",
    "\n",
    "def collect_results_into_change_magnitude_nodecimal(energies, threshold, results):\n",
    "    for i, energy in enumerate(energies):\n",
    "        excess = threshold - energy\n",
    "        value = f'{energy:6.2f} kcal/mol'\n",
    "        results[i].excess = excess\n",
    "        results[i].value._magnitude = energy\n",
    "\n",
    "def collect_results_into_noparse_nonormalize(energies, threshold, results):\n",
    "    for i, energy in enumerate(energies):\n",
    "        excess = threshold - energy\n",
    "        value = f'{energy:6.2f} kcal/mol'\n",
    "        results[i].excess = excess\n",
    "        results[i].value = value\n",
    "\n",
    "\n",
    "%timeit collect_results(energies, threshold)\n",
    "%timeit collect_results_into(energies, threshold, results)\n",
    "%timeit collect_results_into_noparse(energies, threshold, results)\n",
    "%timeit collect_results_into_change_magnitude(energies, threshold, results)\n",
    "%timeit collect_results_into_change_magnitude_nodecimal(energies, threshold, results)\n",
    "%timeit collect_results_into_noparse_nonormalize(energies, threshold, results)"
   ]
  },
  {
   "cell_type": "code",
   "execution_count": null,
   "id": "fa645805-54fd-4e64-9940-ae0a4da5ebc8",
   "metadata": {},
   "outputs": [],
   "source": [
    "# test search.display_report after removing pint\n",
    "\n",
    "import nuad.constraints as nc\n",
    "import nuad.search as ns\n",
    "\n",
    "random_seed = 1\n",
    "\n",
    "# many 4-domain strands with no common domains, 4 domains each, every domain length = 10\n",
    "\n",
    "# num_strands = 3\n",
    "# num_strands = 5\n",
    "# num_strands = 10\n",
    "# num_strands = 50\n",
    "num_strands = 100\n",
    "\n",
    "design = nc.Design()\n",
    "#                     si         wi         ni         ei\n",
    "# strand i is    [----------|----------|----------|---------->\n",
    "for i in range(num_strands):\n",
    "    design.add_strand([f's{i}', f'w{i}', f'n{i}', f'e{i}'])\n",
    "\n",
    "numpy_filters = [nc.NearestNeighborEnergyFilter(-9.3, -9.0, 52.0)]\n",
    "\n",
    "replace_with_close_sequences = True\n",
    "domain_pool_10 = nc.DomainPool(f'length-10_domains', 10,\n",
    "                               numpy_filters=numpy_filters,\n",
    "                               replace_with_close_sequences=replace_with_close_sequences,\n",
    "                               )\n",
    "domain_pool_11 = nc.DomainPool(f'length-11_domains', 11,\n",
    "                               numpy_filters=numpy_filters,\n",
    "                               replace_with_close_sequences=replace_with_close_sequences,\n",
    "                               )\n",
    "\n",
    "for strand in design.strands:\n",
    "    for domain in strand.domains[:2]:\n",
    "        domain.pool = domain_pool_10\n",
    "    for domain in strand.domains[2:]:\n",
    "        domain.pool = domain_pool_11\n",
    "\n",
    "strand_pairs_rna_duplex_constraint = nc.rna_duplex_strand_pairs_constraint(\n",
    "    threshold=-1.0, temperature=52, short_description='RNAduplex')\n",
    "\n",
    "constraints = [strand_pairs_rna_duplex_constraint]\n",
    "\n",
    "ns.assign_sequences_to_domains_randomly_from_pools(design=design, warn_fixed_sequences=True)\n",
    "\n",
    "ns.display_report(design=design, constraints=constraints)"
   ]
  },
  {
   "cell_type": "code",
   "execution_count": 22,
   "id": "04aeb9f0-53a2-4605-bf32-01145569612f",
   "metadata": {},
   "outputs": [
    {
     "name": "stdout",
     "output_type": "stream",
     "text": [
      "q1=<Quantity(-2.5, 'kilocalorie / mole')>\n",
      "q1=<Quantity(-2.5, 'kilocalorie / mole')>\n",
      "q2=None\n"
     ]
    }
   ],
   "source": [
    "import pint\n",
    "ureg = pint.UnitRegistry()\n",
    "q1 = pint.Quantity(-2.5, ureg.kcal/ureg.mol)\n",
    "print(f'{q1=}')\n",
    "q2 = q1.ito(ureg.kcal/ureg.mol, magnitude=-3.0)\n",
    "print(f'{q1=}')\n",
    "print(f'{q2=}')"
   ]
  },
  {
   "cell_type": "code",
   "execution_count": 21,
   "id": "23b3c6b0-6127-4a14-88c3-fcb723fd6998",
   "metadata": {},
   "outputs": [
    {
     "name": "stdout",
     "output_type": "stream",
     "text": [
      "None\n"
     ]
    }
   ],
   "source": [
    "import pint\n",
    "\n",
    "ureg = pint.UnitRegistry()\n",
    "\n",
    "\n",
    "quantities = [ureg.Quantity(-2.5, ureg.kcal / ureg.mol) for _ in range(10)]\n",
    "\n",
    "\n",
    "quantities[0] = quantities[0].ito(ureg.kcal / ureg.mol, magnitude=-3.0)\n",
    "\n",
    "\n",
    "print(quantities[0])"
   ]
  }
 ],
 "metadata": {
  "kernelspec": {
   "display_name": "Python 3 (ipykernel)",
   "language": "python",
   "name": "python3"
  },
  "language_info": {
   "codemirror_mode": {
    "name": "ipython",
    "version": 3
   },
   "file_extension": ".py",
   "mimetype": "text/x-python",
   "name": "python",
   "nbconvert_exporter": "python",
   "pygments_lexer": "ipython3",
   "version": "3.8.16"
  }
 },
 "nbformat": 4,
 "nbformat_minor": 5
}

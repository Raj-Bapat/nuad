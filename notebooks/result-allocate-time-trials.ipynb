{
 "cells": [
  {
   "cell_type": "code",
   "execution_count": 24,
   "id": "066cfe16-9134-40a5-af54-15b652c10975",
   "metadata": {},
   "outputs": [
    {
     "name": "stdout",
     "output_type": "stream",
     "text": [
      "28.9 ms ± 2.06 ms per loop (mean ± std. dev. of 7 runs, 10 loops each)\n",
      "27.9 ms ± 1.57 ms per loop (mean ± std. dev. of 7 runs, 10 loops each)\n",
      "9.81 ms ± 1.17 ms per loop (mean ± std. dev. of 7 runs, 100 loops each)\n",
      "92.2 µs ± 2.37 µs per loop (mean ± std. dev. of 7 runs, 10,000 loops each)\n",
      "50.7 µs ± 652 ns per loop (mean ± std. dev. of 7 runs, 10,000 loops each)\n",
      "47.6 µs ± 499 ns per loop (mean ± std. dev. of 7 runs, 10,000 loops each)\n"
     ]
    }
   ],
   "source": [
    "# https://github.com/UC-Davis-molecular-computing/nuad/issues/233\n",
    "\n",
    "import nuad.constraints as nc\n",
    "from decimal import Decimal\n",
    "import pint\n",
    "ureg = pint.UnitRegistry()\n",
    "\n",
    "from pprint import pprint\n",
    "n = 10**2\n",
    "energies = [-1.0]*n\n",
    "threshold = -0.9\n",
    "results = [nc.Result(excess=0, value=0) for _ in range(n)]\n",
    "\n",
    "def collect_results(energies, threshold):\n",
    "    results = []\n",
    "    for energy in energies:\n",
    "        excess = threshold - energy\n",
    "        value = f'{energy:6.2f} kcal/mol'\n",
    "        result = nc.Result(excess=excess, value=value)\n",
    "        results.append(result)\n",
    "    return results\n",
    "\n",
    "def collect_results_into_parse_and_normalize(energies, threshold, results):\n",
    "    for i, energy in enumerate(energies):\n",
    "        excess = threshold - energy\n",
    "        value = f'{energy:6.2f} kcal/mol'\n",
    "        results[i].excess = excess\n",
    "        results[i].value = nc.parse_and_normalize_quantity(value)\n",
    "\n",
    "def collect_results_into_noparse_normalize(energies, threshold, results):\n",
    "    for i, energy in enumerate(energies):\n",
    "        excess = threshold - energy\n",
    "        value = f'{energy:6.2f} kcal/mol'\n",
    "        results[i].excess = excess\n",
    "        quantity = pint.Quantity(energy, ureg.kcal / ureg.mol)\n",
    "        results[i].value = normalize_quantity(quantity)\n",
    "\n",
    "def collect_results_into_change_magnitude(energies, threshold, results):\n",
    "    for i, energy in enumerate(energies):\n",
    "        excess = threshold - energy\n",
    "        value = f'{energy:6.2f} kcal/mol'\n",
    "        results[i].excess = excess\n",
    "        results[i].value._magnitude = Decimal(str(energy))\n",
    "\n",
    "def collect_results_into_change_magnitude_nodecimal(energies, threshold, results):\n",
    "    for i, energy in enumerate(energies):\n",
    "        excess = threshold - energy\n",
    "        value = f'{energy:6.2f} kcal/mol'\n",
    "        results[i].excess = excess\n",
    "        results[i].value._magnitude = energy\n",
    "\n",
    "def collect_results_into_noparse_nonormalize(energies, threshold, results):\n",
    "    for i, energy in enumerate(energies):\n",
    "        excess = threshold - energy\n",
    "        value = f'{energy:6.2f} kcal/mol'\n",
    "        results[i].excess = excess\n",
    "        results[i].value = value\n",
    "\n",
    "\n",
    "%timeit collect_results(energies, threshold)\n",
    "%timeit collect_results_into(energies, threshold, results)\n",
    "%timeit collect_results_into_noparse(energies, threshold, results)\n",
    "%timeit collect_results_into_change_magnitude(energies, threshold, results)\n",
    "%timeit collect_results_into_change_magnitude_nodecimal(energies, threshold, results)\n",
    "%timeit collect_results_into_noparse_nonormalize(energies, threshold, results)"
   ]
  },
  {
   "cell_type": "code",
   "execution_count": 22,
   "id": "04aeb9f0-53a2-4605-bf32-01145569612f",
   "metadata": {},
   "outputs": [
    {
     "name": "stdout",
     "output_type": "stream",
     "text": [
      "q1=<Quantity(-2.5, 'kilocalorie / mole')>\n",
      "q1=<Quantity(-2.5, 'kilocalorie / mole')>\n",
      "q2=None\n"
     ]
    }
   ],
   "source": [
    "import pint\n",
    "ureg = pint.UnitRegistry()\n",
    "q1 = pint.Quantity(-2.5, ureg.kcal/ureg.mol)\n",
    "print(f'{q1=}')\n",
    "q2 = q1.ito(ureg.kcal/ureg.mol, magnitude=-3.0)\n",
    "print(f'{q1=}')\n",
    "print(f'{q2=}')"
   ]
  },
  {
   "cell_type": "code",
   "execution_count": 21,
   "id": "23b3c6b0-6127-4a14-88c3-fcb723fd6998",
   "metadata": {},
   "outputs": [
    {
     "name": "stdout",
     "output_type": "stream",
     "text": [
      "None\n"
     ]
    }
   ],
   "source": [
    "import pint\n",
    "\n",
    "ureg = pint.UnitRegistry()\n",
    "\n",
    "\n",
    "quantities = [ureg.Quantity(-2.5, ureg.kcal / ureg.mol) for _ in range(10)]\n",
    "\n",
    "\n",
    "quantities[0] = quantities[0].ito(ureg.kcal / ureg.mol, magnitude=-3.0)\n",
    "\n",
    "\n",
    "print(quantities[0])"
   ]
  }
 ],
 "metadata": {
  "kernelspec": {
   "display_name": "Python 3 (ipykernel)",
   "language": "python",
   "name": "python3"
  },
  "language_info": {
   "codemirror_mode": {
    "name": "ipython",
    "version": 3
   },
   "file_extension": ".py",
   "mimetype": "text/x-python",
   "name": "python",
   "nbconvert_exporter": "python",
   "pygments_lexer": "ipython3",
   "version": "3.8.16"
  }
 },
 "nbformat": 4,
 "nbformat_minor": 5
}
